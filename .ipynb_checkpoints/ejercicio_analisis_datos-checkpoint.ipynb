{
 "cells": [
  {
   "cell_type": "markdown",
   "id": "33be4208",
   "metadata": {},
   "source": [
    "# 🧪 Ejercicio Práctico: Análisis de Datos Simulados y Distribuciones"
   ]
  },
  {
   "cell_type": "markdown",
   "id": "dec50d3b",
   "metadata": {},
   "source": [
    "Aprender a representar información como vectores, crear un DataFrame con variables estadísticas reales y simular una distribución normal, todo utilizando herramientas fundamentales de análisis de datos en Python."
   ]
  },
  {
   "cell_type": "markdown",
   "id": "52ed5402",
   "metadata": {},
   "source": [
    "## 📌 Consigna\n",
    "\n",
    "1. Representa los vectores de dos usuarios de Spotify:\n",
    "   - Minutos diarios escuchando música\n",
    "   - Cantidad de playlists creadas\n",
    "   - Número de géneros musicales favoritos\n",
    "\n",
    "2. Crea un DataFrame ficticio con datos de:\n",
    "   - Edad\n",
    "   - Salario mensual\n",
    "\n",
    "   Y luego:\n",
    "   - Calcula la media, mediana y desviación estándar\n",
    "   - Evalúa la correlación entre edad y salario\n",
    "\n",
    "3. Simula una distribución normal de ingresos mensuales para 1.000 personas con media de $40.000 y desviación estándar de $8.000. Grafica el histograma."
   ]
  },
  {
   "cell_type": "markdown",
   "id": "f02cbcc5",
   "metadata": {},
   "source": [
    "### 📥 ¿Cómo abordar este ejercicio?\n",
    "\n",
    "En la siguiente sección encontrarás los pasos detallados para resolver este ejercicio utilizando Python, Jupyter Notebook y herramientas del ecosistema científico.\n",
    "\n",
    "💡 **Antes de comenzar**, te recomiendo revisar cómo configurar correctamente tu entorno de desarrollo. Además, puedes consultar la **solución completa y ejecutable** en mi repositorio de GitHub:\n",
    "\n",
    "🔗 [github.com/TU_USUARIO/mi-ebook-ml](https://github.com/TU_USUARIO/mi-ebook-ml)"
   ]
  },
  {
   "cell_type": "code",
   "execution_count": null,
   "id": "42887ef7",
   "metadata": {},
   "outputs": [],
   "source": [
    "# Representación vectorial\n",
    "import numpy as np\n",
    "usuario_A = np.array([120, 10, 5])\n",
    "usuario_B = np.array([180, 15, 8])\n",
    "\n",
    "print(\"Usuario A:\", usuario_A)\n",
    "print(\"Usuario B:\", usuario_B)\n",
    "\n",
    "# Estadística con pandas\n",
    "import pandas as pd\n",
    "data = {\n",
    "    'edad': [22, 25, 30, 35, 40, 28, 33, 45, 50, 27],\n",
    "    'salario': [28000, 32000, 40000, 45000, 50000, 35000, 42000, 55000, 60000, 33000]\n",
    "}\n",
    "df = pd.DataFrame(data)\n",
    "print(\"\\nEstadísticas descriptivas:\")\n",
    "print(df.describe())\n",
    "\n",
    "print(\"\\nCorrelación edad-salario:\", df['edad'].corr(df['salario']))\n",
    "\n",
    "# Distribución normal con matplotlib\n",
    "import matplotlib.pyplot as plt\n",
    "ingresos = np.random.normal(loc=40000, scale=8000, size=1000)\n",
    "\n",
    "plt.hist(ingresos, bins=30, color='skyblue', edgecolor='black')\n",
    "plt.title(\"Distribución de Ingresos Mensuales\")\n",
    "plt.xlabel(\"Ingreso ($)\")\n",
    "plt.ylabel(\"Frecuencia\")\n",
    "plt.grid(True, linestyle='--', alpha=0.5)\n",
    "plt.show()\n"
   ]
  }
 ],
 "metadata": {},
 "nbformat": 4,
 "nbformat_minor": 5
}
